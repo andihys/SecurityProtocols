{
 "cells": [
  {
   "metadata": {},
   "cell_type": "markdown",
   "source": [
    "# John The Ripper\n",
    "\n",
    "John the Ripper is an open-source password cracking tool. It is used to perform dictionary attacks, brute force attacks, or custom password cracking techniques to test and enhance password security."
   ],
   "id": "d1ebc6f75e4e6eba"
  },
  {
   "metadata": {
    "ExecuteTime": {
     "end_time": "2025-01-11T17:48:46.877528Z",
     "start_time": "2025-01-11T17:48:46.841457Z"
    }
   },
   "cell_type": "code",
   "source": [
    "import subprocess\n",
    "\n",
    "# Constants to store file paths for the password file and wordlist\n",
    "PASSWORD_FILE = \"protected_passwords.txt\"\n",
    "WORDLIST_FILE = \"wordlist.txt\"\n",
    "\n",
    "# Template for creating the command to execute John the Ripper\n",
    "JOHN_COMMAND_TEMPLATE = [\"john\", \"--wordlist={wordlist}\", \"{password_file}\"]\n",
    "\n",
    "\n",
    "def run_john_the_ripper(password_file, wordlist_file):\n",
    "    \"\"\"\n",
    "    Runs the John the Ripper tool to test a password-protected file with a given wordlist.\n",
    "\n",
    "    Args:\n",
    "        password_file (str): Path to the file containing password hashes.\n",
    "        wordlist_file (str): Path to the wordlist for testing the passwords.\n",
    "    \"\"\"\n",
    "    # Build the command dynamically by formatting the template with file paths\n",
    "    command = [cmd.format(wordlist=wordlist_file, password_file=password_file) for cmd in JOHN_COMMAND_TEMPLATE]\n",
    "    try:\n",
    "        # Execute the constructed command using subprocess\n",
    "        subprocess.run(command, check=True)\n",
    "    except FileNotFoundError:\n",
    "        # Handles the case where John the Ripper is not installed or not in PATH\n",
    "        print(\"Error: John the Ripper is not installed or not in your PATH.\")\n",
    "    except Exception as error:\n",
    "        # Handles any other unexpected errors\n",
    "        print(f\"Unhandled error: {error}\")\n",
    "\n",
    "\n",
    "# Run the John the Ripper tool with defined file paths for the password-protected file and wordlist\n",
    "run_john_the_ripper(PASSWORD_FILE, WORDLIST_FILE)\n"
   ],
   "id": "1e4374d9d43f1cde",
   "outputs": [
    {
     "name": "stdout",
     "output_type": "stream",
     "text": [
      "John the Ripper is not installed or not in your PATH.\n"
     ]
    }
   ],
   "execution_count": 1
  },
  {
   "cell_type": "code",
   "execution_count": null,
   "id": "initial_id",
   "metadata": {
    "collapsed": true
   },
   "outputs": [],
   "source": [
    ""
   ]
  }
 ],
 "metadata": {
  "kernelspec": {
   "display_name": "Python 3",
   "language": "python",
   "name": "python3"
  },
  "language_info": {
   "codemirror_mode": {
    "name": "ipython",
    "version": 2
   },
   "file_extension": ".py",
   "mimetype": "text/x-python",
   "name": "python",
   "nbconvert_exporter": "python",
   "pygments_lexer": "ipython2",
   "version": "2.7.6"
  }
 },
 "nbformat": 4,
 "nbformat_minor": 5
}
