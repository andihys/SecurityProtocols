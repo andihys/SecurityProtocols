{
 "cells": [
  {
   "metadata": {},
   "cell_type": "markdown",
   "source": [
    "# John The Ripper\n",
    "\n",
    "John the Ripper is an open-source password cracking tool. It is used to perform dictionary attacks, brute force attacks, or custom password cracking techniques to test and enhance password security. The configuration parameters, as well as the rules and functions applied to the different operating modes, are memorized in the john.conf file\n",
    "\n"
   ],
   "id": "d1ebc6f75e4e6eba"
  },
  {
   "metadata": {},
   "cell_type": "code",
   "source": [
    "import subprocess\n",
    "\n",
    "# Constants to store file paths for the password file and wordlist\n",
    "PASSWORD_FILE = \"sha256_passwords.txt\"\n",
    "WORDLIST_FILE = \"rockyou.txt\"\n",
    "\n",
    "# Template for creating the command to execute John the Ripper in wordlist mode\n",
    "JOHN_COMMAND_TEMPLATE = [\"john\", \"--wordlist={wordlist}\", \"{password_file}\"]\n",
    "\n",
    "\n",
    "def run_john_the_ripper(password_file, wordlist_file):\n",
    "    \"\"\"\n",
    "    Runs the John the Ripper tool to test a password-protected file with a given wordlist.\n",
    "\n",
    "    Args:\n",
    "        password_file (str): Path to the file containing password hashes.\n",
    "        wordlist_file (str): Path to the wordlist for testing the passwords.\n",
    "    \"\"\"\n",
    "    # Build the command dynamically by formatting the template with file paths\n",
    "    command = [cmd.format(wordlist=wordlist_file, password_file=password_file) for cmd in JOHN_COMMAND_TEMPLATE]\n",
    "    try:\n",
    "        # Execute the constructed command using subprocess\n",
    "        subprocess.run(command, check=True)\n",
    "    except FileNotFoundError:\n",
    "        # Handles the case where John the Ripper is not installed or not in PATH\n",
    "        print(\"Error: John the Ripper is not installed or not in your PATH.\")\n",
    "    except Exception as error:\n",
    "        # Handles any other unexpected errors\n",
    "        print(f\"Unhandled error: {error}\")\n",
    "\n",
    "\n",
    "# Run the John the Ripper tool with defined file paths for the password-protected file and wordlist\n",
    "run_john_the_ripper(PASSWORD_FILE, WORDLIST_FILE)"
   ],
   "id": "1e4374d9d43f1cde",
   "outputs": [],
   "execution_count": null
  },
  {
   "metadata": {},
   "cell_type": "markdown",
   "source": [
    "This attack sequentially tries each password contained in the wordlist, also\n",
    "applying some manipulations according to some default rules specified in the\n",
    "configuration file.\n",
    "\n",
    "In the configuration file there are many rules that can be used for cracking passwords. Rules define how passwords are manipulated to create similar words that different for some characteristics. [Linux/Ubuntu OS] The configuration file is located in /etc/john/john.conf\n",
    "\n"
   ],
   "id": "e3617462e270702f"
  },
  {
   "metadata": {
    "ExecuteTime": {
     "end_time": "2025-01-11T18:43:50.617079Z",
     "start_time": "2025-01-11T18:43:50.612628Z"
    }
   },
   "cell_type": "code",
   "source": [
    "custom_rules = \"\"\"\n",
    "[List.Rules:CustomRules]\n",
    "# Capitalize the first letter\n",
    "c Az\"[0] Az\"[lC]\n",
    "\n",
    "# Capitalize the last letter\n",
    "c Az\"l Az\"C\"\n",
    "\n",
    "# Replace 'a' with '4'\n",
    "s a 4\n",
    "\n",
    "# Replace 's' with '5'\n",
    "s s 5\n",
    "\n",
    "# Replace 'o' with '0'\n",
    "s o 0\n",
    "\"\"\"\n",
    "with open(\"john.conf\", \"a\") as conf_file:\n",
    "    conf_file.write(\"\\n\" + custom_rules)"
   ],
   "id": "3fff468f8c67d504",
   "outputs": [],
   "execution_count": null
  },
  {
   "metadata": {},
   "cell_type": "code",
   "outputs": [],
   "execution_count": null,
   "source": [
    "# Define a new command template for John the Ripper with the specified format\n",
    "# john–-wordlist=<wordlist> --format=<algorithm> --rules=DefaultRules <path-file>\n",
    "JOHN_COMMAND_TEMPLATE_CUSTOM = \"john --wordlist={wordlist} --format={algorithm} --rules=CustomRules {password_file}\"\n",
    "\n",
    "def execute_john_with_custom_rules(password_file: str, wordlist_file: str, algorithm: str) -> None:\n",
    "    \"\"\"\n",
    "    Executes John the Ripper using a wordlist and custom cracking rules.\n",
    "\n",
    "    Args:\n",
    "        password_file (str): Path to the file containing password hashes.\n",
    "        wordlist_file (str): Path to the wordlist for testing passwords.\n",
    "        algorithm (str): The hashing algorithm to be used (e.g., sha256, md5).\n",
    "    \"\"\"\n",
    "    # Build the command by formatting the template with the provided arguments\n",
    "    command = JOHN_COMMAND_TEMPLATE_CUSTOM.format(\n",
    "        wordlist=wordlist_file,\n",
    "        algorithm=algorithm,\n",
    "        password_file=password_file\n",
    "    ).split()\n",
    "\n",
    "    try:\n",
    "        # Run the command using subprocess\n",
    "        subprocess.run(command, check=True)\n",
    "    except FileNotFoundError:\n",
    "        # Handle missing John the Ripper installation or incorrect PATH\n",
    "        print(\"Error: John the Ripper is not installed or not available in your PATH.\")\n",
    "    except subprocess.CalledProcessError as e:\n",
    "        # Handle execution errors\n",
    "        print(f\"Error during execution: {e}\")\n",
    "    except Exception as error:\n",
    "        # Handle unforeseen errors\n",
    "        print(f\"An unexpected error occurred: {error}\")\n",
    "\n",
    "# Example usage with custom rules and SHA-256 algorithm\n",
    "execute_john_with_custom_rules(PASSWORD_FILE, WORDLIST_FILE, \"sha256\")"
   ],
   "id": "c8dfd860c042deae"
  },
  {
   "metadata": {},
   "cell_type": "code",
   "outputs": [],
   "execution_count": null,
   "source": [
    "# Command to display the results of John the Ripper's cracking session including applied rules\n",
    "subprocess.run([\"john\", \"--show\", \"-rules\", PASSWORD_FILE], check=True)"
   ],
   "id": "bcc8f58f82223199"
  }
 ],
 "metadata": {
  "kernelspec": {
   "display_name": "Python 3",
   "language": "python",
   "name": "python3"
  },
  "language_info": {
   "codemirror_mode": {
    "name": "ipython",
    "version": 2
   },
   "file_extension": ".py",
   "mimetype": "text/x-python",
   "name": "python",
   "nbconvert_exporter": "python",
   "pygments_lexer": "ipython2",
   "version": "2.7.6"
  }
 },
 "nbformat": 4,
 "nbformat_minor": 5
}
